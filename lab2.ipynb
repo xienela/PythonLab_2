{
 "cells": [
  {
   "cell_type": "code",
   "execution_count": 1,
   "id": "1a0c2f6a",
   "metadata": {},
   "outputs": [],
   "source": [
    "import pandas as pd\n",
    "import numpy as np\n",
    "from sklearn import datasets, linear_model, model_selection\n",
    "from sklearn.metrics import confusion_matrix, classification_report"
   ]
  },
  {
   "cell_type": "code",
   "execution_count": 2,
   "id": "f2d9f4d2",
   "metadata": {},
   "outputs": [],
   "source": [
    "f='data/athletes_sochi.txt'\n",
    "dfs = pd.read_csv(f).dropna()"
   ]
  },
  {
   "cell_type": "code",
   "execution_count": 3,
   "id": "b7e87997",
   "metadata": {},
   "outputs": [
    {
     "data": {
      "text/html": [
       "<div>\n",
       "<style scoped>\n",
       "    .dataframe tbody tr th:only-of-type {\n",
       "        vertical-align: middle;\n",
       "    }\n",
       "\n",
       "    .dataframe tbody tr th {\n",
       "        vertical-align: top;\n",
       "    }\n",
       "\n",
       "    .dataframe thead th {\n",
       "        text-align: right;\n",
       "    }\n",
       "</style>\n",
       "<table border=\"1\" class=\"dataframe\">\n",
       "  <thead>\n",
       "    <tr style=\"text-align: right;\">\n",
       "      <th></th>\n",
       "      <th>weight</th>\n",
       "      <th>height</th>\n",
       "      <th>age</th>\n",
       "      <th>BMI</th>\n",
       "      <th>gender</th>\n",
       "    </tr>\n",
       "  </thead>\n",
       "  <tbody>\n",
       "    <tr>\n",
       "      <th>0</th>\n",
       "      <td>68.0</td>\n",
       "      <td>1.72</td>\n",
       "      <td>17</td>\n",
       "      <td>22.985398</td>\n",
       "      <td>Male</td>\n",
       "    </tr>\n",
       "    <tr>\n",
       "      <th>1</th>\n",
       "      <td>85.0</td>\n",
       "      <td>1.85</td>\n",
       "      <td>27</td>\n",
       "      <td>24.835646</td>\n",
       "      <td>Male</td>\n",
       "    </tr>\n",
       "    <tr>\n",
       "      <th>2</th>\n",
       "      <td>68.0</td>\n",
       "      <td>1.78</td>\n",
       "      <td>21</td>\n",
       "      <td>21.461937</td>\n",
       "      <td>Male</td>\n",
       "    </tr>\n",
       "    <tr>\n",
       "      <th>4</th>\n",
       "      <td>82.0</td>\n",
       "      <td>1.86</td>\n",
       "      <td>21</td>\n",
       "      <td>23.702162</td>\n",
       "      <td>Male</td>\n",
       "    </tr>\n",
       "    <tr>\n",
       "      <th>5</th>\n",
       "      <td>57.0</td>\n",
       "      <td>1.75</td>\n",
       "      <td>21</td>\n",
       "      <td>18.612245</td>\n",
       "      <td>Male</td>\n",
       "    </tr>\n",
       "    <tr>\n",
       "      <th>...</th>\n",
       "      <td>...</td>\n",
       "      <td>...</td>\n",
       "      <td>...</td>\n",
       "      <td>...</td>\n",
       "      <td>...</td>\n",
       "    </tr>\n",
       "    <tr>\n",
       "      <th>2851</th>\n",
       "      <td>98.0</td>\n",
       "      <td>1.93</td>\n",
       "      <td>28</td>\n",
       "      <td>26.309431</td>\n",
       "      <td>Male</td>\n",
       "    </tr>\n",
       "    <tr>\n",
       "      <th>2853</th>\n",
       "      <td>60.0</td>\n",
       "      <td>1.70</td>\n",
       "      <td>31</td>\n",
       "      <td>20.761246</td>\n",
       "      <td>Female</td>\n",
       "    </tr>\n",
       "    <tr>\n",
       "      <th>2854</th>\n",
       "      <td>65.0</td>\n",
       "      <td>1.68</td>\n",
       "      <td>28</td>\n",
       "      <td>23.030045</td>\n",
       "      <td>Female</td>\n",
       "    </tr>\n",
       "    <tr>\n",
       "      <th>2856</th>\n",
       "      <td>68.0</td>\n",
       "      <td>1.76</td>\n",
       "      <td>22</td>\n",
       "      <td>21.952479</td>\n",
       "      <td>Male</td>\n",
       "    </tr>\n",
       "    <tr>\n",
       "      <th>2857</th>\n",
       "      <td>54.0</td>\n",
       "      <td>1.58</td>\n",
       "      <td>19</td>\n",
       "      <td>21.631149</td>\n",
       "      <td>Female</td>\n",
       "    </tr>\n",
       "  </tbody>\n",
       "</table>\n",
       "<p>2479 rows × 5 columns</p>\n",
       "</div>"
      ],
      "text/plain": [
       "      weight  height  age        BMI  gender\n",
       "0       68.0    1.72   17  22.985398    Male\n",
       "1       85.0    1.85   27  24.835646    Male\n",
       "2       68.0    1.78   21  21.461937    Male\n",
       "4       82.0    1.86   21  23.702162    Male\n",
       "5       57.0    1.75   21  18.612245    Male\n",
       "...      ...     ...  ...        ...     ...\n",
       "2851    98.0    1.93   28  26.309431    Male\n",
       "2853    60.0    1.70   31  20.761246  Female\n",
       "2854    65.0    1.68   28  23.030045  Female\n",
       "2856    68.0    1.76   22  21.952479    Male\n",
       "2857    54.0    1.58   19  21.631149  Female\n",
       "\n",
       "[2479 rows x 5 columns]"
      ]
     },
     "execution_count": 3,
     "metadata": {},
     "output_type": "execute_result"
    }
   ],
   "source": [
    "dfs = pd.read_csv(f).dropna()\n",
    "dfs[\"BMI\"] = dfs[\"weight\"] / (dfs[\"height\"]**2)\n",
    "alldata = dfs[ ['weight', 'height', 'age', \"BMI\", 'gender'] ]\n",
    "alldata"
   ]
  },
  {
   "cell_type": "code",
   "execution_count": 4,
   "id": "bbf06341",
   "metadata": {},
   "outputs": [],
   "source": [
    "allinput = alldata[ ['weight', 'height', 'age', 'BMI'] ]\n",
    "alloutput = alldata[\"gender\"].apply(lambda x: int(x == \"Male\"))\n",
    "X_train, X_test, Y_train, Y_test = model_selection.train_test_split(allinput, alloutput, test_size=0.2)\n",
    "\n",
    "model_old = linear_model.LogisticRegression()\n",
    "model_old.fit(X_train[['weight', 'height', 'BMI']].values, Y_train)\n",
    "\n",
    "model_new = linear_model.LogisticRegression()\n",
    "model_new.fit(X_train.values, Y_train)\n",
    "\n",
    "Y_test_predicted_old = model_old.predict(X_test[['weight', 'height', 'BMI']].values)\n",
    "Y_test_predicted_new = model_new.predict(X_test.values)"
   ]
  },
  {
   "cell_type": "code",
   "execution_count": 5,
   "id": "88b8d6f3",
   "metadata": {},
   "outputs": [
    {
     "name": "stdout",
     "output_type": "stream",
     "text": [
      "old Accuracy:  0.8588709677419355\n",
      "new Accuracy:  0.8629032258064516\n"
     ]
    }
   ],
   "source": [
    "[tn, fp], [fn, tp] = confusion_matrix(Y_test, Y_test_predicted_old)\n",
    "confusion_matrix(Y_test, Y_test_predicted_old)\n",
    "accurancy = (tn + tp) / (tp + fp + tn + fn)\n",
    "print(\"old Accurancy: \", accurancy)\n",
    "\n",
    "[tn, fp], [fn, tp] = confusion_matrix(Y_test, Y_test_predicted_new)\n",
    "confusion_matrix(Y_test, Y_test_predicted_new)\n",
    "accurancy = (tn + tp) / (tp + fp + tn + fn)\n",
    "print(\"new Accurancy: \", accurancy)"
   ]
  },
  {
   "cell_type": "code",
   "execution_count": 6,
   "id": "3275cc0e",
   "metadata": {},
   "outputs": [],
   "source": [
    "#пример оберток\n",
    "def getPredictedData(inputData, outputData, testSize=0.2):\n",
    "    X_train, X_test, Y_train, Y_test = model_selection.train_test_split(inputData, outputData, test_size=testSize)\n",
    "    model = linear_model.LogisticRegression()\n",
    "    model.fit(X_train.values, Y_train)\n",
    "    y_predicted = model.predict(X_test.values)\n",
    "    return(printReport(Y_test,y_predicted, ['Male', 'Female']))\n",
    "\n",
    "def printReport(Y, y_predicted, names):\n",
    "    print(classification_report(Y, y_predicted, target_names=names))"
   ]
  },
  {
   "cell_type": "code",
   "execution_count": 7,
   "id": "7118bab1",
   "metadata": {},
   "outputs": [
    {
     "name": "stdout",
     "output_type": "stream",
     "text": [
      "              precision    recall  f1-score   support\n",
      "\n",
      "        Male       0.79      0.80      0.80       296\n",
      "      Female       0.87      0.86      0.87       448\n",
      "\n",
      "    accuracy                           0.84       744\n",
      "   macro avg       0.83      0.83      0.83       744\n",
      "weighted avg       0.84      0.84      0.84       744\n",
      "\n"
     ]
    }
   ],
   "source": [
    "#Вызов оберток\n",
    "allinput = alldata[ ['weight', 'height'] ]\n",
    "alloutput = alldata[\"gender\"].apply(lambda x: int(x == \"Male\"))\n",
    "getPredictedData(allinput, alloutput, 0.3)"
   ]
  }
 ],
 "metadata": {
  "kernelspec": {
   "display_name": "Python 3 (ipykernel)",
   "language": "python",
   "name": "python3"
  },
  "language_info": {
   "codemirror_mode": {
    "name": "ipython",
    "version": 3
   },
   "file_extension": ".py",
   "mimetype": "text/x-python",
   "name": "python",
   "nbconvert_exporter": "python",
   "pygments_lexer": "ipython3",
   "version": "3.10.2"
  }
 },
 "nbformat": 4,
 "nbformat_minor": 5
}
